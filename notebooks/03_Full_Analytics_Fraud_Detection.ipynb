{
 "cells": [
  {
   "cell_type": "markdown",
   "id": "21e40868",
   "metadata": {},
   "source": [
    "# Credit Card Fraud Detection with Analytics\n",
    "This notebook includes preprocessing, model training, feature importance, and precision-recall curve."
   ]
  },
  {
   "cell_type": "code",
   "execution_count": null,
   "id": "0865ec57",
   "metadata": {},
   "outputs": [],
   "source": [
    "\n",
    "import pandas as pd\n",
    "import numpy as np\n",
    "import matplotlib.pyplot as plt\n",
    "import seaborn as sns\n",
    "%matplotlib inline\n",
    "\n",
    "from sklearn.model_selection import train_test_split\n",
    "from sklearn.preprocessing import StandardScaler\n",
    "from sklearn.ensemble import RandomForestClassifier\n",
    "from sklearn.metrics import classification_report, confusion_matrix, roc_auc_score, roc_curve, auc, precision_recall_curve\n",
    "from imblearn.over_sampling import SMOTE\n",
    "    "
   ]
  },
  {
   "cell_type": "code",
   "execution_count": null,
   "id": "261efbe9",
   "metadata": {},
   "outputs": [],
   "source": [
    "\n",
    "# Load and preprocess the dataset\n",
    "df = pd.read_csv('../data/creditcard.csv')\n",
    "df = df.dropna(subset=['Class'])\n",
    "\n",
    "# Scale 'Amount' and 'Time'\n",
    "scaler = StandardScaler()\n",
    "df['scaled_amount'] = scaler.fit_transform(df[['Amount']])\n",
    "df['scaled_time'] = scaler.fit_transform(df[['Time']])\n",
    "df.drop(['Amount', 'Time'], axis=1, inplace=True)\n",
    "df = df[['scaled_amount', 'scaled_time'] + [col for col in df.columns if col not in ['scaled_amount', 'scaled_time']]]\n",
    "    "
   ]
  },
  {
   "cell_type": "code",
   "execution_count": null,
   "id": "d27dc798",
   "metadata": {},
   "outputs": [],
   "source": [
    "\n",
    "# Split and apply SMOTE\n",
    "X = df.drop('Class', axis=1)\n",
    "y = df['Class']\n",
    "\n",
    "X_train, X_test, y_train, y_test = train_test_split(X, y, test_size=0.3, stratify=y, random_state=42)\n",
    "smote = SMOTE(random_state=42)\n",
    "X_train_resampled, y_train_resampled = smote.fit_resample(X_train, y_train)\n",
    "\n",
    "X_small = X_train_resampled.sample(n=10000, random_state=42)\n",
    "y_small = y_train_resampled.loc[X_small.index]\n",
    "    "
   ]
  },
  {
   "cell_type": "code",
   "execution_count": null,
   "id": "e7111c89",
   "metadata": {},
   "outputs": [],
   "source": [
    "\n",
    "# Train the Random Forest model\n",
    "model = RandomForestClassifier(n_estimators=25, random_state=42)\n",
    "model.fit(X_small, y_small)\n",
    "\n",
    "y_pred = model.predict(X_test)\n",
    "y_pred_proba = model.predict_proba(X_test)[:, 1]\n",
    "    "
   ]
  },
  {
   "cell_type": "code",
   "execution_count": null,
   "id": "291e1cdb",
   "metadata": {},
   "outputs": [],
   "source": [
    "\n",
    "# Confusion Matrix\n",
    "cm = confusion_matrix(y_test, y_pred)\n",
    "sns.heatmap(cm, annot=True, fmt='d', cmap='Blues',\n",
    "            xticklabels=['Non-Fraud', 'Fraud'],\n",
    "            yticklabels=['Non-Fraud', 'Fraud'])\n",
    "plt.title(\"Confusion Matrix\")\n",
    "plt.xlabel(\"Predicted\")\n",
    "plt.ylabel(\"Actual\")\n",
    "plt.show()\n",
    "    "
   ]
  },
  {
   "cell_type": "code",
   "execution_count": null,
   "id": "40e4d25f",
   "metadata": {},
   "outputs": [],
   "source": [
    "\n",
    "# Classification Report and ROC AUC\n",
    "print(\"Classification Report:\\n\", classification_report(y_test, y_pred))\n",
    "print(\"ROC AUC Score:\", roc_auc_score(y_test, y_pred_proba))\n",
    "    "
   ]
  },
  {
   "cell_type": "code",
   "execution_count": null,
   "id": "b3624db5",
   "metadata": {},
   "outputs": [],
   "source": [
    "\n",
    "# ROC Curve\n",
    "fpr, tpr, _ = roc_curve(y_test, y_pred_proba)\n",
    "roc_auc = auc(fpr, tpr)\n",
    "\n",
    "plt.figure(figsize=(8, 6))\n",
    "plt.plot(fpr, tpr, label=f'ROC Curve (AUC = {roc_auc:.2f})')\n",
    "plt.plot([0, 1], [0, 1], linestyle='--', color='gray')\n",
    "plt.xlabel('False Positive Rate')\n",
    "plt.ylabel('True Positive Rate')\n",
    "plt.title('Receiver Operating Characteristic (ROC)')\n",
    "plt.legend(loc='lower right')\n",
    "plt.grid(True)\n",
    "plt.tight_layout()\n",
    "plt.show()\n",
    "    "
   ]
  },
  {
   "cell_type": "code",
   "execution_count": null,
   "id": "71093e18",
   "metadata": {},
   "outputs": [],
   "source": [
    "\n",
    "# Feature Importance\n",
    "importances = model.feature_importances_\n",
    "features = X.columns\n",
    "feat_df = pd.DataFrame({'Feature': features, 'Importance': importances})\n",
    "feat_df = feat_df.sort_values(by='Importance', ascending=False)\n",
    "\n",
    "sns.barplot(x='Importance', y='Feature', data=feat_df.head(10))\n",
    "plt.title('Top 10 Important Features')\n",
    "plt.show()\n",
    "    "
   ]
  },
  {
   "cell_type": "code",
   "execution_count": null,
   "id": "39a81e1a",
   "metadata": {},
   "outputs": [],
   "source": [
    "\n",
    "# Precision-Recall Curve\n",
    "precision, recall, _ = precision_recall_curve(y_test, y_pred_proba)\n",
    "plt.plot(recall, precision, marker='.')\n",
    "plt.title('Precision-Recall Curve')\n",
    "plt.xlabel('Recall')\n",
    "plt.ylabel('Precision')\n",
    "plt.grid(True)\n",
    "plt.show()\n",
    "    "
   ]
  }
 ],
 "metadata": {},
 "nbformat": 4,
 "nbformat_minor": 5
}
